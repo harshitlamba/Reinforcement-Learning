{
 "cells": [
  {
   "cell_type": "markdown",
   "metadata": {},
   "source": [
    "### Self-Driving Cab Use Case"
   ]
  },
  {
   "cell_type": "markdown",
   "metadata": {},
   "source": [
    "There are 4 locations and our job is to pick up the passenger at one location and drop him off at another. <br>\n",
    "\n",
    "**Rewards or Penality**:\n",
    "- We will receive +20 points for a successful drop-off \n",
    "- Lose 1 point for every time-step it takes. \n",
    "- There is also a 10 point penalty for illegal pick-up and drop-off actions."
   ]
  },
  {
   "cell_type": "code",
   "execution_count": 1,
   "metadata": {},
   "outputs": [],
   "source": [
    "# Importing the required libraries\n",
    "import gym\n",
    "import numpy as np\n",
    "import random\n",
    "from IPython.display import clear_output"
   ]
  },
  {
   "cell_type": "code",
   "execution_count": 2,
   "metadata": {},
   "outputs": [],
   "source": [
    "# Loading the self driving cab environment from gym library\n",
    "env = gym.make(\"Taxi-v2\")"
   ]
  },
  {
   "cell_type": "code",
   "execution_count": 3,
   "metadata": {},
   "outputs": [
    {
     "data": {
      "text/plain": [
       "Discrete(500)"
      ]
     },
     "execution_count": 3,
     "metadata": {},
     "output_type": "execute_result"
    }
   ],
   "source": [
    "# Total Number of states\n",
    "env.observation_space"
   ]
  },
  {
   "cell_type": "markdown",
   "metadata": {},
   "source": [
    "### Implementing Q-learning"
   ]
  },
  {
   "cell_type": "raw",
   "metadata": {},
   "source": [
    "Different Actions:\n",
    "    - 0: south\n",
    "    - 1: north\n",
    "    - 2: east\n",
    "    - 3: west\n",
    "    - 4: pickup\n",
    "    - 5: dropoff"
   ]
  },
  {
   "cell_type": "code",
   "execution_count": 4,
   "metadata": {},
   "outputs": [],
   "source": [
    "# Four pick up and drop location of a passenger: R, G, Y, B"
   ]
  },
  {
   "cell_type": "code",
   "execution_count": 5,
   "metadata": {},
   "outputs": [],
   "source": [
    "# Initialize the Q-table with 500Ã—6 (Numbe of States * Number of actions) matrix of zeros:\n",
    "q_table = np.zeros([env.observation_space.n, env.action_space.n])"
   ]
  },
  {
   "cell_type": "code",
   "execution_count": 6,
   "metadata": {},
   "outputs": [
    {
     "data": {
      "text/plain": [
       "(500, 6)"
      ]
     },
     "execution_count": 6,
     "metadata": {},
     "output_type": "execute_result"
    }
   ],
   "source": [
    "q_table.shape"
   ]
  },
  {
   "cell_type": "markdown",
   "metadata": {},
   "source": [
    "- **env.reset**: Resets the environment and returns a random initial state.\n",
    "- **env.step(action)**: Step the environment by one timestep. Returns\n",
    "    - **observation**: Observations of the environment\n",
    "    - **reward**: If your action was beneficial or not\n",
    "    - **done**: Indicates if we have successfully picked up and dropped off a passenger, also called one episode\n",
    "    - **info**: Additional info such as performance and latency for debugging purposes\n",
    "- **env.render**: Renders one frame of the environment (helpful in visualizing the environment)"
   ]
  },
  {
   "cell_type": "markdown",
   "metadata": {},
   "source": [
    "**Q-values updation equation**:\n",
    "\n",
    "    Q(state,action) = (1âˆ’Î±)Q(state,action) + Î± (reward + Î³ * max_aQ(next state,all actions))\n",
    "\n",
    "- **Î± (alpha) is the learning rate (0<Î±â‰¤1)**: Extent to which our Q-values are being updated in every iteration.\n",
    "\n",
    "- **Î³ (gamma) is the discount factor (0â‰¤Î³â‰¤1)**: Determines how much importance we want to give to future rewards. A high value for the discount factor (close to 1) captures the long-term effective award, whereas, a discount factor of 0 makes our agent consider only immediate reward, hence making it greedy."
   ]
  },
  {
   "cell_type": "markdown",
   "metadata": {},
   "source": [
    "### Training simple reinforcement learning - Q Learning"
   ]
  },
  {
   "cell_type": "markdown",
   "metadata": {},
   "source": [
    "#### Training the Agent and updating the Q_table"
   ]
  },
  {
   "cell_type": "code",
   "execution_count": 7,
   "metadata": {},
   "outputs": [
    {
     "name": "stdout",
     "output_type": "stream",
     "text": [
      "Episode: 100000\n",
      "Training finished.\n",
      "\n"
     ]
    }
   ],
   "source": [
    "# Hyperparameters\n",
    "alpha = 0.1\n",
    "gamma = 0.9\n",
    "epsilon = 0.1\n",
    "\n",
    "# Capturing the epochs and penalities for each episode\n",
    "all_epochs = []\n",
    "all_penalties = []\n",
    "\n",
    "for i in range(1, 100001):\n",
    "    state = env.reset()\n",
    "\n",
    "    # Initializing the epochs, penalities, rewads to zero\n",
    "    epochs, penalties, reward, = 0, 0, 0\n",
    "    done = False\n",
    "    \n",
    "    # For every episode or ride getting the action, calculating the rewards,\n",
    "    # penalities and updating the Q table\n",
    "    while not done:\n",
    "        if random.uniform(0, 1) < epsilon:\n",
    "            action = env.action_space.sample() # Explore action space\n",
    "        else:\n",
    "            action = np.argmax(q_table[state]) # Exploit learned values\n",
    "\n",
    "        # Capturing the new state, awards and episode completion flag based on t he action\n",
    "        next_state, reward, done, info = env.step(action) \n",
    "        \n",
    "        old_value = q_table[state, action]\n",
    "        next_max = np.max(q_table[next_state])\n",
    "        \n",
    "        # Caluculating the new Q value and updating the Q table\n",
    "        new_value = (1 - alpha) * old_value + alpha * (reward + gamma * next_max)\n",
    "        q_table[state, action] = new_value\n",
    "\n",
    "        \n",
    "        # Increasing the penality for worng drop location\n",
    "        if reward == -10:\n",
    "            penalties += 1\n",
    "\n",
    "        state = next_state\n",
    "        epochs += 1\n",
    "        \n",
    "    # Appending the list with time steps and penalities for each episode\n",
    "    all_epochs.append(epochs)\n",
    "    all_penalties.append(penalties)\n",
    "        \n",
    "    if i % 100 == 0:\n",
    "        clear_output(wait=True)\n",
    "        print(f\"Episode: {i}\")\n",
    "\n",
    "print(\"Training finished.\\n\")"
   ]
  },
  {
   "cell_type": "code",
   "execution_count": 8,
   "metadata": {},
   "outputs": [],
   "source": [
    "import pandas as pd\n",
    "Q_RL = {'episodes':range(1, 100001),'epochs':all_epochs,\"rewards\" : all_penalties}\n",
    "Q_RL_DF = pd.DataFrame(Q_RL)"
   ]
  },
  {
   "cell_type": "code",
   "execution_count": 9,
   "metadata": {},
   "outputs": [
    {
     "data": {
      "text/plain": [
       "Text(0.5, 1.0, 'Episodes Vs Time Steps')"
      ]
     },
     "execution_count": 9,
     "metadata": {},
     "output_type": "execute_result"
    }
   ],
   "source": [
    "import matplotlib.pyplot as plt\n",
    "plt.plot(range(1, 100001), all_epochs, linewidth=2.0)\n",
    "plt.xlabel(\"Episodes\",fontsize = 12)\n",
    "plt.xticks(fontsize = 12)\n",
    "plt.ylabel(\"Time Steps\",fontsize = 12)\n",
    "plt.yticks(fontsize = 12)\n",
    "plt.title(\"Episodes Vs Time Steps\")"
   ]
  },
  {
   "cell_type": "code",
   "execution_count": 10,
   "metadata": {},
   "outputs": [
    {
     "data": {
      "text/plain": [
       "Text(0.5, 1.0, 'Episodes Vs Penality')"
      ]
     },
     "execution_count": 10,
     "metadata": {},
     "output_type": "execute_result"
    },
    {
     "data": {
      "image/png": "[encoded data removed]",
      "text/plain": [
       "<Figure size 432x288 with 1 Axes>"
      ]
     },
     "metadata": {
      "needs_background": "light"
     },
     "output_type": "display_data"
    }
   ],
   "source": [
    "import matplotlib.pyplot as plt\n",
    "#plt.plot(num_episodes, all_epochs_new)\n",
    "plt.plot(range(1, 100001), all_penalties, linewidth=2.0)\n",
    "plt.xlabel(\"Episodes\",fontsize = 12)\n",
    "plt.xticks(fontsize = 12)\n",
    "plt.ylabel(\"Penality\",fontsize = 12)\n",
    "plt.yticks(fontsize = 12)\n",
    "plt.title(\"Episodes Vs Penality\")"
   ]
  },
  {
   "cell_type": "code",
   "execution_count": 11,
   "metadata": {},
   "outputs": [
    {
     "data": {
      "text/plain": [
       "14.8242"
      ]
     },
     "execution_count": 11,
     "metadata": {},
     "output_type": "execute_result"
    }
   ],
   "source": [
    "np.mean(all_epochs)"
   ]
  },
  {
   "cell_type": "code",
   "execution_count": 12,
   "metadata": {},
   "outputs": [
    {
     "data": {
      "text/plain": [
       "14.8242"
      ]
     },
     "execution_count": 12,
     "metadata": {},
     "output_type": "execute_result"
    }
   ],
   "source": [
    "sum(all_epochs)/100000"
   ]
  },
  {
   "cell_type": "code",
   "execution_count": 13,
   "metadata": {},
   "outputs": [
    {
     "data": {
      "text/plain": [
       "array([-0.79057098,  1.62261467, -0.90513311,  0.1884846 , -7.96927147,\n",
       "       -8.20606421])"
      ]
     },
     "execution_count": 13,
     "metadata": {},
     "output_type": "execute_result"
    }
   ],
   "source": [
    "q_table[328]"
   ]
  },
  {
   "cell_type": "markdown",
   "metadata": {},
   "source": [
    "#### Evaluating agent's performance after Q-learning"
   ]
  },
  {
   "cell_type": "code",
   "execution_count": 14,
   "metadata": {
    "scrolled": true
   },
   "outputs": [
    {
     "name": "stdout",
     "output_type": "stream",
     "text": [
      "Results after 100 episodes:\n",
      "Average timesteps per episode with simple Q learning: 12.46\n",
      "Average penalties per episode with simple Q learning: 0.0\n"
     ]
    }
   ],
   "source": [
    "total_epochs, total_penalties = 0, 0\n",
    "episodes = 100\n",
    "\n",
    "# For different episodes capturing the number of epochs/time steps, penality and reward points\n",
    "for _ in range(episodes):\n",
    "    state = env.reset()\n",
    "    epochs, penalties, reward = 0, 0, 0\n",
    "    done = False\n",
    "    \n",
    "    while not done:\n",
    "        action = np.argmax(q_table[state])\n",
    "        state, reward, done, info = env.step(action)\n",
    "\n",
    "        if reward == -10:\n",
    "            penalties += 1\n",
    "\n",
    "        epochs += 1\n",
    "\n",
    "    total_penalties += penalties\n",
    "    total_epochs += epochs\n",
    "\n",
    "print(f\"Results after {episodes} episodes:\")\n",
    "print(f\"Average timesteps per episode with simple Q learning: {total_epochs / episodes}\")\n",
    "print(f\"Average penalties per episode with simple Q learning: {total_penalties / episodes}\")"
   ]
  },
  {
   "cell_type": "markdown",
   "metadata": {},
   "source": [
    "### Training the reinforcement Q learning model with NN"
   ]
  },
  {
   "cell_type": "code",
   "execution_count": 15,
   "metadata": {},
   "outputs": [],
   "source": [
    "observation_space = env.observation_space.n\n",
    "action_space = env.action_space.n"
   ]
  },
  {
   "cell_type": "code",
   "execution_count": 16,
   "metadata": {},
   "outputs": [
    {
     "name": "stderr",
     "output_type": "stream",
     "text": [
      "Using TensorFlow backend.\n"
     ]
    }
   ],
   "source": [
    "from keras.models import Sequential\n",
    "from keras.layers import Dense\n",
    "from keras.optimizers import Adam"
   ]
  },
  {
   "cell_type": "code",
   "execution_count": 17,
   "metadata": {},
   "outputs": [],
   "source": [
    "# Tuning on the discount rate hyper parameter"
   ]
  },
  {
   "cell_type": "code",
   "execution_count": 18,
   "metadata": {
    "scrolled": true
   },
   "outputs": [
    {
     "name": "stdout",
     "output_type": "stream",
     "text": [
      "WARNING:tensorflow:From /Users/gauthamp/anaconda3/lib/python3.7/site-packages/tensorflow/python/framework/op_def_library.py:263: colocate_with (from tensorflow.python.framework.ops) is deprecated and will be removed in a future version.\n",
      "Instructions for updating:\n",
      "Colocations handled automatically by placer.\n",
      "Episode 1 of 2500\n",
      "WARNING:tensorflow:From /Users/gauthamp/anaconda3/lib/python3.7/site-packages/tensorflow/python/ops/math_ops.py:3066: to_int32 (from tensorflow.python.ops.math_ops) is deprecated and will be removed in a future version.\n",
      "Instructions for updating:\n",
      "Use tf.cast instead.\n",
      "Episode 101 of 2500\n",
      "Episode 201 of 2500\n",
      "Episode 301 of 2500\n",
      "Episode 401 of 2500\n",
      "Episode 501 of 2500\n",
      "Episode 601 of 2500\n",
      "Episode 701 of 2500\n",
      "Episode 801 of 2500\n",
      "Episode 901 of 2500\n",
      "Episode 1001 of 2500\n",
      "Episode 1101 of 2500\n",
      "Episode 1201 of 2500\n",
      "Episode 1301 of 2500\n",
      "Episode 1401 of 2500\n",
      "Episode 1501 of 2500\n",
      "Episode 1601 of 2500\n",
      "Episode 1701 of 2500\n",
      "Episode 1801 of 2500\n",
      "Episode 1901 of 2500\n",
      "Episode 2001 of 2500\n",
      "Episode 2101 of 2500\n",
      "Episode 2201 of 2500\n",
      "Episode 2301 of 2500\n",
      "Episode 2401 of 2500\n",
      "Episode 1 of 2500\n",
      "Episode 101 of 2500\n",
      "Episode 201 of 2500\n",
      "Episode 301 of 2500\n",
      "Episode 401 of 2500\n",
      "Episode 501 of 2500\n",
      "Episode 601 of 2500\n",
      "Episode 701 of 2500\n",
      "Episode 801 of 2500\n",
      "Episode 901 of 2500\n",
      "Episode 1001 of 2500\n",
      "Episode 1101 of 2500\n",
      "Episode 1201 of 2500\n",
      "Episode 1301 of 2500\n",
      "Episode 1401 of 2500\n",
      "Episode 1501 of 2500\n",
      "Episode 1601 of 2500\n",
      "Episode 1701 of 2500\n",
      "Episode 1801 of 2500\n",
      "Episode 1901 of 2500\n",
      "Episode 2001 of 2500\n",
      "Episode 2101 of 2500\n",
      "Episode 2201 of 2500\n",
      "Episode 2301 of 2500\n",
      "Episode 2401 of 2500\n",
      "Episode 1 of 2500\n",
      "Episode 101 of 2500\n",
      "Episode 201 of 2500\n",
      "Episode 301 of 2500\n",
      "Episode 401 of 2500\n",
      "Episode 501 of 2500\n",
      "Episode 601 of 2500\n",
      "Episode 701 of 2500\n",
      "Episode 801 of 2500\n",
      "Episode 901 of 2500\n",
      "Episode 1001 of 2500\n",
      "Episode 1101 of 2500\n",
      "Episode 1201 of 2500\n",
      "Episode 1301 of 2500\n",
      "Episode 1401 of 2500\n",
      "Episode 1501 of 2500\n",
      "Episode 1601 of 2500\n",
      "Episode 1701 of 2500\n",
      "Episode 1801 of 2500\n",
      "Episode 1901 of 2500\n",
      "Episode 2001 of 2500\n",
      "Episode 2101 of 2500\n",
      "Episode 2201 of 2500\n",
      "Episode 2301 of 2500\n",
      "Episode 2401 of 2500\n"
     ]
    }
   ],
   "source": [
    "discRateFac = [0.1,0.5,0.95]\n",
    "decay_factor = 0.999\n",
    "num_episodes = 2500\n",
    "\n",
    "import datetime\n",
    "ts = datetime.datetime.now() \n",
    "\n",
    "# Creating . empty list\n",
    "all_epochs_hyperparm = [[] for _ in range(len(discRateFac))]\n",
    "all_rewards_hyperparm = [[] for _ in range(len(discRateFac))]\n",
    "tmp = 0\n",
    "\n",
    "\n",
    "# For differnt discount factor parameter capturing the time steps and rewards for each episode\n",
    "for dicfac in discRateFac:\n",
    "    epochs_hyp = []\n",
    "    rewards_list = []\n",
    "    eps = 0.5\n",
    "    \n",
    "    # Defining the NN model with 2 hidden layers\n",
    "    model1 = Sequential()\n",
    "    model1.add(Dense(100,input_shape=(observation_space,), activation='relu'))\n",
    "    model1.add(Dense(50, activation='relu'))\n",
    "    model1.add(Dense(action_space, activation='linear'))\n",
    "    model1.compile(loss='mse', optimizer='adam', metrics=['mae'])\n",
    "    \n",
    "    # For each episode capturing the rewards, time steps and updating the model\n",
    "    for i in range(num_episodes):\n",
    "        # Random initialization of the state\n",
    "        hyp_state = env.reset()\n",
    "        eps *= decay_factor\n",
    "        \n",
    "        if i % 100 == 0:\n",
    "            print(\"Episode {} of {}\".format(i + 1, num_episodes))\n",
    "        \n",
    "        done = False\n",
    "        reward_sum_hyp = 0\n",
    "        epochs_new = 0\n",
    "        \n",
    "        # Captuing the time steps for each episode\n",
    "        while not done:\n",
    "            # Exploration - Randomply selecting the action\n",
    "            if np.random.random() < eps:\n",
    "                hyp_action = env.action_space.sample()\n",
    "            else:\n",
    "                # Exploitation - Selecting the action based using model predictions\n",
    "                hyp_action = np.argmax(model1.predict(np.identity(500)[hyp_state:hyp_state + 1]))\n",
    "            \n",
    "            # Capturing the new state, awards and episode completion flag based on t he action\n",
    "            new_state, reward_hyp, done, _ = env.step(hyp_action)\n",
    "            # Calucating the Q values based on the next action and adding the rewards\n",
    "            target = reward_hyp + dicfac * np.max(model1.predict(np.identity(500)[new_state:new_state + 1]))\n",
    "            # Getting the Q values for the current state\n",
    "            target_vec = model1.predict(np.identity(500)[hyp_state:hyp_state + 1])[0]\n",
    "            # Updating the Q value of the current state\n",
    "            target_vec[hyp_action] = target\n",
    "            # Fitting or updating the NN model with the new Q values \n",
    "            model1.fit(np.identity(500)[hyp_state:hyp_state + 1], target_vec.reshape(-1, 6), epochs=1, verbose=0)\n",
    "            # Updating the current state with new state\n",
    "            hyp_state = new_state\n",
    "            # Capturing the total rewards for each episode\n",
    "            reward_sum_hyp += reward_hyp\n",
    "            # Capturing the total time steps\n",
    "            epochs_new += 1\n",
    "        \n",
    "        rewards_list.append(reward_sum_hyp)\n",
    "        epochs_hyp.append(epochs_new)\n",
    "        \n",
    "    # For each hyper parameter at each episode level capturing the time steps and rewards\n",
    "    all_epochs_hyperparm[tmp] = epochs_hyp\n",
    "    all_rewards_hyperparm[tmp] = rewards_list\n",
    "    tmp += 1\n",
    "\n",
    "    \n",
    "ts1 = datetime.datetime.now() "
   ]
  },
  {
   "cell_type": "code",
   "execution_count": 19,
   "metadata": {},
   "outputs": [
    {
     "name": "stdout",
     "output_type": "stream",
     "text": [
      "Average timesteps per episode with discount rate **0.1**: 198.994\n",
      "Average timesteps per episode with discount rate **0.5**: 183.5136\n",
      "Average timesteps per episode with discount rate **0.95**: 51.416\n"
     ]
    }
   ],
   "source": [
    "print(f\"Average timesteps per episode with discount rate **0.1**: {np.mean(all_epochs_hyperparm[0])}\")\n",
    "print(f\"Average timesteps per episode with discount rate **0.5**: {np.mean(all_epochs_hyperparm[1])}\")\n",
    "print(f\"Average timesteps per episode with discount rate **0.95**: {np.mean(all_epochs_hyperparm[2])}\")"
   ]
  },
  {
   "cell_type": "code",
   "execution_count": 20,
   "metadata": {
    "scrolled": true
   },
   "outputs": [
    {
     "name": "stdout",
     "output_type": "stream",
     "text": [
      "Average reward per episode with discount rate **0.1**: -304.4332\n",
      "Average reward per episode with discount rate **0.5**: -278.2068\n",
      "Average reward per episode with discount rate **0.95**: -79.6628\n"
     ]
    }
   ],
   "source": [
    "print(f\"Average reward per episode with discount rate **0.1**: {np.mean(all_rewards_hyperparm[0])}\")\n",
    "print(f\"Average reward per episode with discount rate **0.5**: {np.mean(all_rewards_hyperparm[1])}\")\n",
    "print(f\"Average reward per episode with discount rate **0.95**: {np.mean(all_rewards_hyperparm[2])}\")"
   ]
  },
  {
   "cell_type": "code",
   "execution_count": 21,
   "metadata": {},
   "outputs": [
    {
     "data": {
      "image/png": "[encoded data removed]",
      "text/plain": [
       "<Figure size 432x288 with 1 Axes>"
      ]
     },
     "metadata": {
      "needs_background": "light"
     },
     "output_type": "display_data"
    }
   ],
   "source": [
    "index = np.arange(len(discRateFac))\n",
    "epocs_hype = [np.mean(all_epochs_hyperparm[0]),np.mean(all_epochs_hyperparm[1]),np.mean(all_epochs_hyperparm[2])]\n",
    "plt.bar(index,epocs_hype)\n",
    "plt.xlabel('Discount Rate', fontsize=5)\n",
    "plt.ylabel('Average time steps', fontsize=5)\n",
    "plt.xticks(index, discRateFac, fontsize=5, rotation=30)\n",
    "plt.title('Discount Rate Vs Average Time Steps')\n",
    "plt.show()"
   ]
  },
  {
   "cell_type": "code",
   "execution_count": 22,
   "metadata": {},
   "outputs": [
    {
     "data": {
      "image/png": "[encoded data removed]",
      "text/plain": [
       "<Figure size 432x288 with 1 Axes>"
      ]
     },
     "metadata": {
      "needs_background": "light"
     },
     "output_type": "display_data"
    }
   ],
   "source": [
    "index = np.arange(len(discRateFac))\n",
    "rewards_hype = [np.mean(all_rewards_hyperparm[0]),np.mean(all_rewards_hyperparm[1]),np.mean(all_rewards_hyperparm[2])]\n",
    "plt.bar(index,rewards_hype)\n",
    "plt.xlabel('Discount Rate', fontsize=5)\n",
    "plt.ylabel('Rewards', fontsize=5)\n",
    "plt.xticks(index, discRateFac, fontsize=5, rotation=30)\n",
    "plt.title('Discount Rate Vs Rewards')\n",
    "plt.show()"
   ]
  },
  {
   "cell_type": "markdown",
   "metadata": {},
   "source": [
    "#### Building the final model based on the hyper paramer"
   ]
  },
  {
   "cell_type": "code",
   "execution_count": 23,
   "metadata": {},
   "outputs": [],
   "source": [
    "# Defining the NN model with 2 hidden layers\n",
    "model = Sequential()\n",
    "model.add(Dense(100,input_shape=(observation_space,), activation='relu'))\n",
    "model.add(Dense(50, activation='relu'))\n",
    "model.add(Dense(6, activation='linear'))\n",
    "model.compile(loss='mse', optimizer='adam', metrics=['mae'])"
   ]
  },
  {
   "cell_type": "code",
   "execution_count": 24,
   "metadata": {},
   "outputs": [
    {
     "name": "stdout",
     "output_type": "stream",
     "text": [
      "_________________________________________________________________\n",
      "Layer (type)                 Output Shape              Param #   \n",
      "=================================================================\n",
      "dense_10 (Dense)             (None, 100)               50100     \n",
      "_________________________________________________________________\n",
      "dense_11 (Dense)             (None, 50)                5050      \n",
      "_________________________________________________________________\n",
      "dense_12 (Dense)             (None, 6)                 306       \n",
      "=================================================================\n",
      "Total params: 55,456\n",
      "Trainable params: 55,456\n",
      "Non-trainable params: 0\n",
      "_________________________________________________________________\n"
     ]
    }
   ],
   "source": [
    "model.summary()"
   ]
  },
  {
   "cell_type": "code",
   "execution_count": 25,
   "metadata": {},
   "outputs": [
    {
     "name": "stdout",
     "output_type": "stream",
     "text": [
      "Episode 1 of 2500\n",
      "Episode 101 of 2500\n",
      "Episode 201 of 2500\n",
      "Episode 301 of 2500\n",
      "Episode 401 of 2500\n",
      "Episode 501 of 2500\n",
      "Episode 601 of 2500\n",
      "Episode 701 of 2500\n",
      "Episode 801 of 2500\n",
      "Episode 901 of 2500\n",
      "Episode 1001 of 2500\n",
      "Episode 1101 of 2500\n",
      "Episode 1201 of 2500\n",
      "Episode 1301 of 2500\n",
      "Episode 1401 of 2500\n",
      "Episode 1501 of 2500\n",
      "Episode 1601 of 2500\n",
      "Episode 1701 of 2500\n",
      "Episode 1801 of 2500\n",
      "Episode 1901 of 2500\n",
      "Episode 2001 of 2500\n",
      "Episode 2101 of 2500\n",
      "Episode 2201 of 2500\n",
      "Episode 2301 of 2500\n",
      "Episode 2401 of 2500\n"
     ]
    }
   ],
   "source": [
    "# now execute the q learning\n",
    "finalDiscRate = 0.95\n",
    "eps = 0.5\n",
    "decay_factor = 0.999\n",
    "num_episodes = 2500\n",
    "final_rewards = []\n",
    "all_epochs_new = []\n",
    "\n",
    "import datetime\n",
    "ts = datetime.datetime.now() \n",
    "\n",
    "# For each episode capturing the rewards, time steps and updating the model\n",
    "for i in range(num_episodes):\n",
    "    # Random initialization of the state\n",
    "    final_state = env.reset()\n",
    "    eps *= decay_factor\n",
    "    \n",
    "    if i % 100 == 0:\n",
    "        print(\"Episode {} of {}\".format(i + 1, num_episodes))\n",
    "    \n",
    "    done = False\n",
    "    reward_sum_fin = 0\n",
    "    epochs_new_fin = 0\n",
    "    \n",
    "    # Captuing the time steps for each episode\n",
    "    while not done:\n",
    "        # Exploration - Randomply selecting the action\n",
    "        if np.random.random() < eps:\n",
    "            action_fin = env.action_space.sample()\n",
    "        else:\n",
    "            # Exploitation - Selecting the action based using model predictions\n",
    "            action_fin = np.argmax(model.predict(np.identity(500)[final_state:final_state + 1]))\n",
    "        \n",
    "        # Capturing the new state, awards and episode completion flag based on t he action\n",
    "        new_state_fin, reward_fin, done, _ = env.step(action_fin)\n",
    "        # Calucating the Q values based on the next action and adding the rewards\n",
    "        target_fin = reward_fin + finalDiscRate * np.max(model.predict(np.identity(500)[new_state_fin:new_state_fin + 1]))\n",
    "        # Getting the Q values for the current state\n",
    "        target_vec_fin = model.predict(np.identity(500)[final_state:final_state + 1])[0]\n",
    "        # Updating the Q value of the current state\n",
    "        target_vec_fin[action_fin] = target_fin\n",
    "        # Fitting or updating the NN model with the new Q values\n",
    "        model.fit(np.identity(500)[final_state:final_state + 1], target_vec_fin.reshape(-1, 6), epochs=1, verbose=0)\n",
    "        # Updating the current state with new state\n",
    "        final_state = new_state_fin\n",
    "        # Capturing the total rewards for each episode\n",
    "        reward_sum_fin += reward_fin\n",
    "        # Capturing the total time steps\n",
    "        epochs_new_fin += 1\n",
    "    \n",
    "    # For each episode capturing the time steps and rewards\n",
    "    final_rewards.append(reward_sum_fin)\n",
    "    all_epochs_new.append(epochs_new_fin)\n",
    "    \n",
    "ts1 = datetime.datetime.now() "
   ]
  },
  {
   "cell_type": "code",
   "execution_count": 26,
   "metadata": {},
   "outputs": [
    {
     "data": {
      "text/plain": [
       "68.9864"
      ]
     },
     "execution_count": 26,
     "metadata": {},
     "output_type": "execute_result"
    }
   ],
   "source": [
    "np.mean(all_epochs_new)"
   ]
  },
  {
   "cell_type": "code",
   "execution_count": 36,
   "metadata": {},
   "outputs": [
    {
     "data": {
      "text/plain": [
       "13.52"
      ]
     },
     "execution_count": 36,
     "metadata": {},
     "output_type": "execute_result"
    }
   ],
   "source": [
    "np.mean(all_epochs_new[2400:2500])"
   ]
  },
  {
   "cell_type": "markdown",
   "metadata": {},
   "source": [
    "### Evaluating the agent's performance with Deep Q-learning"
   ]
  },
  {
   "cell_type": "code",
   "execution_count": 27,
   "metadata": {},
   "outputs": [
    {
     "name": "stdout",
     "output_type": "stream",
     "text": [
      "Results after 100 episodes:\n",
      "Average timesteps per episode using DL: 24.04\n",
      "Average penalties per episode using DL: 0.0\n"
     ]
    }
   ],
   "source": [
    "total_epochs_test, total_penalties_test = [], 0\n",
    "episodes_test = 100\n",
    "\n",
    "for _ in range(episodes_test):\n",
    "    state = env.reset()\n",
    "    epochs_test, penalties, reward = 0, 0, 0\n",
    "    \n",
    "    done = False\n",
    "    \n",
    "    while not done:\n",
    "        action = np.argmax(model.predict(np.identity(500)[state:state + 1])) #np.argmax(q_table[state])\n",
    "        state, reward, done, info = env.step(action)\n",
    "\n",
    "        if reward == -10:\n",
    "            penalties += 1\n",
    "\n",
    "        epochs_test += 1\n",
    "\n",
    "    total_penalties_test += penalties\n",
    "    total_epochs_test.append(epochs_test)\n",
    "\n",
    "print(f\"Results after {episodes_test} episodes:\")\n",
    "print(f\"Average timesteps per episode using DL: {np.mean(total_epochs_test)}\")\n",
    "print(f\"Average penalties per episode using DL: {total_penalties_test / episodes_test}\")"
   ]
  },
  {
   "cell_type": "code",
   "execution_count": 28,
   "metadata": {},
   "outputs": [
    {
     "data": {
      "text/plain": [
       "1246"
      ]
     },
     "execution_count": 28,
     "metadata": {},
     "output_type": "execute_result"
    }
   ],
   "source": [
    "total_epochs"
   ]
  },
  {
   "cell_type": "code",
   "execution_count": 29,
   "metadata": {},
   "outputs": [],
   "source": [
    "import pandas as pd\n",
    "d = {'episodes':list(range(num_episodes)),'epochs':all_epochs_new,\"rewards\" : final_rewards}\n",
    "train_epochs = pd.DataFrame(d)"
   ]
  },
  {
   "cell_type": "code",
   "execution_count": 30,
   "metadata": {},
   "outputs": [
    {
     "data": {
      "text/plain": [
       "Text(0.5, 1.0, 'Time Steps Vs Episodes')"
      ]
     },
     "execution_count": 30,
     "metadata": {},
     "output_type": "execute_result"
    },
    {
     "data": {
      "image/png": "[encoded data removed]",
      "text/plain": [
       "<Figure size 432x288 with 1 Axes>"
      ]
     },
     "metadata": {
      "needs_background": "light"
     },
     "output_type": "display_data"
    }
   ],
   "source": [
    "import matplotlib.pyplot as plt\n",
    "plt.plot(range(num_episodes), all_epochs_new, linewidth=2.0)\n",
    "plt.xlabel(\"Episodes\",fontsize = 12)\n",
    "plt.xticks(fontsize = 12)\n",
    "plt.ylabel(\"Time Steps\",fontsize = 12)\n",
    "plt.yticks(fontsize = 12)\n",
    "plt.title(\"Time Steps Vs Episodes\")"
   ]
  },
  {
   "cell_type": "code",
   "execution_count": 31,
   "metadata": {},
   "outputs": [
    {
     "data": {
      "text/plain": [
       "Text(0.5, 1.0, 'Rewards Vs Episodes')"
      ]
     },
     "execution_count": 31,
     "metadata": {},
     "output_type": "execute_result"
    },
    {
     "data": {
      "image/png": "[encoded data removed]",
      "text/plain": [
       "<Figure size 432x288 with 1 Axes>"
      ]
     },
     "metadata": {
      "needs_background": "light"
     },
     "output_type": "display_data"
    }
   ],
   "source": [
    "plt.plot(range(num_episodes), final_rewards, linewidth=2.0)\n",
    "plt.xlabel(\"Episodes\",fontsize = 12)\n",
    "plt.xticks(fontsize = 12)\n",
    "plt.ylabel(\"Rewards\",fontsize = 12)\n",
    "plt.yticks(fontsize = 12)\n",
    "plt.title(\"Rewards Vs Episodes\")"
   ]
  },
  {
   "cell_type": "markdown",
   "metadata": {},
   "source": [
    "#### Final Simple Reinforcment Learning Vs Reinforcment learning with NN Train and Test results"
   ]
  },
  {
   "cell_type": "code",
   "execution_count": 38,
   "metadata": {},
   "outputs": [
    {
     "data": {
      "image/png": "[encoded data removed]",
      "text/plain": [
       "<Figure size 432x288 with 1 Axes>"
      ]
     },
     "metadata": {
      "needs_background": "light"
     },
     "output_type": "display_data"
    }
   ],
   "source": [
    "index = np.arange(2)\n",
    "plt.bar(index,[np.mean(all_epochs),np.mean(all_epochs_new)])\n",
    "plt.xlabel('Train Results', fontsize=12)\n",
    "plt.ylabel('Average time steps', fontsize=12)\n",
    "plt.xticks(index, [\"Simple RL\",\"RL with NN\"], fontsize=12, rotation=30)\n",
    "plt.title('Averate time steps on train with simple RL and RL with NN')\n",
    "plt.show()"
   ]
  },
  {
   "cell_type": "code",
   "execution_count": 39,
   "metadata": {},
   "outputs": [
    {
     "data": {
      "image/png": "[encoded data removed]",
      "text/plain": [
       "<Figure size 432x288 with 1 Axes>"
      ]
     },
     "metadata": {
      "needs_background": "light"
     },
     "output_type": "display_data"
    }
   ],
   "source": [
    "index = np.arange(2)\n",
    "plt.bar(index,[np.mean(all_epochs),np.mean(all_epochs_new[2000:2500])])\n",
    "plt.xlabel('Train Results', fontsize=12)\n",
    "plt.ylabel('Average time steps', fontsize=12)\n",
    "plt.xticks(index, [\"Simple RL\",\"RL with NN\"], fontsize=12, rotation=30)\n",
    "plt.title('Averate time steps on train with simple RL and RL with NN')\n",
    "plt.show()"
   ]
  },
  {
   "cell_type": "code",
   "execution_count": 33,
   "metadata": {},
   "outputs": [
    {
     "data": {
      "image/png": "[encoded data removed]",
      "text/plain": [
       "<Figure size 432x288 with 1 Axes>"
      ]
     },
     "metadata": {
      "needs_background": "light"
     },
     "output_type": "display_data"
    }
   ],
   "source": [
    "index = np.arange(2)\n",
    "plt.bar(index,[total_epochs / episodes,np.mean(total_epochs_test)])\n",
    "plt.xlabel('Test Results', fontsize=12)\n",
    "plt.ylabel('Average time steps', fontsize=12)\n",
    "plt.xticks(index, [\"Simple RL\",\"RL with NN\"], fontsize=12, rotation=30)\n",
    "plt.title('Averate time steps on test with simple RL and RL with NN')\n",
    "plt.show()"
   ]
  },
  {
   "cell_type": "markdown",
   "metadata": {},
   "source": [
    "Reference:\n",
    "    - https://github.com/openai/gym/blob/master/gym/envs/toy_text/taxi.py\n",
    "    - https://adventuresinmachinelearning.com/reinforcement-learning-tutorial-python-keras/\n",
    "    - https://www.learndatasci.com/tutorials/reinforcement-q-learning-scratch-python-openai-gym/"
   ]
  },
  {
   "cell_type": "code",
   "execution_count": null,
   "metadata": {},
   "outputs": [],
   "source": []
  }
 ],
 "metadata": {
  "kernelspec": {
   "display_name": "Python 3",
   "language": "python",
   "name": "python3"
  },
  "language_info": {
   "codemirror_mode": {
    "name": "ipython",
    "version": 3
   },
   "file_extension": ".py",
   "mimetype": "text/x-python",
   "name": "python",
   "nbconvert_exporter": "python",
   "pygments_lexer": "ipython3",
   "version": "3.7.1"
  }
 },
 "nbformat": 4,
 "nbformat_minor": 2
}